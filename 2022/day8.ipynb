{
 "cells": [
  {
   "attachments": {},
   "cell_type": "markdown",
   "metadata": {},
   "source": [
    "--- Day 8: Treetop Tree House ---\n",
    "\n",
    "The expedition comes across a peculiar patch of tall trees all planted carefully in a grid. The Elves explain that a previous expedition planted these trees as a reforestation effort. Now, they're curious if this would be a good location for a tree house.\n",
    "\n",
    "First, determine whether there is enough tree cover here to keep a tree house hidden. To do this, you need to count the number of trees that are visible from outside the grid when looking directly along a row or column.\n",
    "\n",
    "The Elves have already launched a quadcopter to generate a map with the height of each tree (your puzzle input). For example:\n",
    "\n",
    "30373\n",
    "25512\n",
    "65332\n",
    "33549\n",
    "35390\n",
    "Each tree is represented as a single digit whose value is its height, where 0 is the shortest and 9 is the tallest.\n",
    "\n",
    "A tree is visible if all of the other trees between it and an edge of the grid are shorter than it. Only consider trees in the same row or column; that is, only look up, down, left, or right from any given tree.\n",
    "\n",
    "All of the trees around the edge of the grid are visible - since they are already on the edge, there are no trees to block the view. In this example, that only leaves the interior nine trees to consider:\n",
    "\n",
    "The top-left 5 is visible from the left and top. (It isn't visible from the right or bottom since other trees of height 5 are in the way.)\n",
    "The top-middle 5 is visible from the top and right.\n",
    "The top-right 1 is not visible from any direction; for it to be visible, there would need to only be trees of height 0 between it and an edge.\n",
    "The left-middle 5 is visible, but only from the right.\n",
    "The center 3 is not visible from any direction; for it to be visible, there would need to be only trees of at most height 2 between it and an edge.\n",
    "The right-middle 3 is visible from the right.\n",
    "In the bottom row, the middle 5 is visible, but the 3 and 4 are not.\n",
    "With 16 trees visible on the edge and another 5 visible in the interior, a total of 21 trees are visible in this arrangement.\n",
    "\n",
    "Consider your map; how many trees are visible from outside the grid?"
   ]
  },
  {
   "cell_type": "code",
   "execution_count": 129,
   "metadata": {},
   "outputs": [],
   "source": [
    "def visible(trees, i, j):\n",
    "    upv = leftv = downv = rightv = True\n",
    "    if (i==0 or j==0 or i==len(trees)-1 or j==len(trees[i])-1):\n",
    "        return True \n",
    "    for up in range(i):\n",
    "        if (trees[up][j] >= trees[i][j]):\n",
    "            upv = False \n",
    "    for left in range(j):\n",
    "        if (trees[i][left] >= trees[i][j]):\n",
    "            leftv = False \n",
    "    for down in range(i+1,len(trees)):\n",
    "        if (trees[down][j] >= trees[i][j]):\n",
    "            downv = False \n",
    "    for right in range(j+1,len(trees[i])):\n",
    "        if (trees[i][right] >= trees[i][j]):\n",
    "            rightv = False \n",
    "    return (upv or leftv or downv or rightv)"
   ]
  },
  {
   "cell_type": "code",
   "execution_count": 130,
   "metadata": {},
   "outputs": [],
   "source": [
    "def star1():\n",
    "    f = open(\"input\\day8.txt\", \"r\")\n",
    "    trees = []\n",
    "    v = 0\n",
    "    for line in f:\n",
    "        line = line.strip(\"\\n\")\n",
    "        tmp = []\n",
    "        for c in line:\n",
    "            tmp.append(int(c))\n",
    "        trees.append(tmp)\n",
    "    for i in range(len(trees)):\n",
    "        for j in range(len(trees[i])):\n",
    "            if (visible(trees,i,j)):\n",
    "                v += 1\n",
    "    return v\n",
    "\n"
   ]
  },
  {
   "cell_type": "code",
   "execution_count": 131,
   "metadata": {},
   "outputs": [
    {
     "data": {
      "text/plain": [
       "21"
      ]
     },
     "execution_count": 131,
     "metadata": {},
     "output_type": "execute_result"
    }
   ],
   "source": [
    "star1()"
   ]
  },
  {
   "attachments": {},
   "cell_type": "markdown",
   "metadata": {},
   "source": [
    "--- Part Two ---\n",
    "\n",
    "Content with the amount of tree cover available, the Elves just need to know the best spot to build their tree house: they would like to be able to see a lot of trees.\n",
    "\n",
    "To measure the viewing distance from a given tree, look up, down, left, and right from that tree; stop if you reach an edge or at the first tree that is the same height or taller than the tree under consideration. (If a tree is right on the edge, at least one of its viewing distances will be zero.)\n",
    "\n",
    "The Elves don't care about distant trees taller than those found by the rules above; the proposed tree house has large eaves to keep it dry, so they wouldn't be able to see higher than the tree house anyway.\n",
    "\n",
    "In the example above, consider the middle 5 in the second row:\n",
    "\n",
    "30373\n",
    "25512\n",
    "65332\n",
    "33549\n",
    "35390\n",
    "Looking up, its view is not blocked; it can see 1 tree (of height 3).\n",
    "Looking left, its view is blocked immediately; it can see only 1 tree (of height 5, right next to it).\n",
    "Looking right, its view is not blocked; it can see 2 trees.\n",
    "Looking down, its view is blocked eventually; it can see 2 trees (one of height 3, then the tree of height 5 that blocks its view).\n",
    "A tree's scenic score is found by multiplying together its viewing distance in each of the four directions. For this tree, this is 4 (found by multiplying 1 * 1 * 2 * 2).\n",
    "\n",
    "However, you can do even better: consider the tree of height 5 in the middle of the fourth row:\n",
    "\n",
    "30373\n",
    "25512\n",
    "65332\n",
    "33549\n",
    "35390\n",
    "Looking up, its view is blocked at 2 trees (by another tree with a height of 5).\n",
    "Looking left, its view is not blocked; it can see 2 trees.\n",
    "Looking down, its view is also not blocked; it can see 1 tree.\n",
    "Looking right, its view is blocked at 2 trees (by a massive tree of height 9).\n",
    "This tree's scenic score is 8 (2 * 2 * 1 * 2); this is the ideal spot for the tree house.\n",
    "\n",
    "Consider each tree on your map. What is the highest scenic score possible for any tree?"
   ]
  },
  {
   "cell_type": "code",
   "execution_count": 132,
   "metadata": {},
   "outputs": [],
   "source": [
    "def scenic(trees,i,j):\n",
    "    upv = leftv = downv = rightv = 0 \n",
    "    upc = leftc = downc = rightc = True\n",
    "    for up in range(i-1,0,-1):\n",
    "        if trees[up][j] < trees[i][j] and upc:\n",
    "            upv += 1  \n",
    "        else:\n",
    "            upc = False\n",
    "    for left in range(j-1,0,-1):\n",
    "        if trees[i][left] < trees[i][j] and leftc:\n",
    "            leftv += 1 \n",
    "        else:\n",
    "            leftc = False\n",
    "    for down in range(i+1,len(trees)):\n",
    "        if (trees[down][j] < trees[i][j]) and downc:\n",
    "            downv += 1 \n",
    "        else:\n",
    "            downc = False\n",
    "    for right in range(j+1,len(trees[i])):\n",
    "        if (trees[i][right] < trees[i][j]) and rightc:\n",
    "            rightv += 1\n",
    "        else:\n",
    "            rightc = False \n",
    "    return (upv * leftv * downv * rightv)"
   ]
  },
  {
   "cell_type": "code",
   "execution_count": 133,
   "metadata": {},
   "outputs": [],
   "source": [
    "def star2():\n",
    "    f = open(\"input\\day8.txt\", \"r\")\n",
    "    trees = []\n",
    "    s = 0\n",
    "    for line in f:\n",
    "        line = line.strip(\"\\n\")\n",
    "        tmp = []\n",
    "        for c in line:\n",
    "            tmp.append(int(c))\n",
    "        trees.append(tmp)\n",
    "    for i in range(len(trees)):\n",
    "        for j in range(len(trees[i])):\n",
    "            tmp = scenic(trees,i,j)\n",
    "            if tmp>s:\n",
    "                s = tmp\n",
    "    return s"
   ]
  },
  {
   "cell_type": "code",
   "execution_count": 134,
   "metadata": {},
   "outputs": [
    {
     "data": {
      "text/plain": [
       "1"
      ]
     },
     "execution_count": 134,
     "metadata": {},
     "output_type": "execute_result"
    }
   ],
   "source": [
    "star2()"
   ]
  }
 ],
 "metadata": {
  "kernelspec": {
   "display_name": "Python 3.10.8 64-bit (microsoft store)",
   "language": "python",
   "name": "python3"
  },
  "language_info": {
   "codemirror_mode": {
    "name": "ipython",
    "version": 3
   },
   "file_extension": ".py",
   "mimetype": "text/x-python",
   "name": "python",
   "nbconvert_exporter": "python",
   "pygments_lexer": "ipython3",
   "version": "3.10.8"
  },
  "orig_nbformat": 4,
  "vscode": {
   "interpreter": {
    "hash": "c2f610f15281af5cb48d9946ea6fc944bf7f3194e1c5110b7e3dffccd31f5179"
   }
  }
 },
 "nbformat": 4,
 "nbformat_minor": 2
}
