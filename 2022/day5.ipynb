{
 "cells": [
  {
   "cell_type": "markdown",
   "metadata": {},
   "source": [
    "--- Day 5: Supply Stacks ---\n",
    "The expedition can depart as soon as the final supplies have been unloaded from the ships. Supplies are stored in stacks of marked crates, but because the needed supplies are buried under many other crates, the crates need to be rearranged.\n",
    "\n",
    "The ship has a giant cargo crane capable of moving crates between stacks. To ensure none of the crates get crushed or fall over, the crane operator will rearrange them in a series of carefully-planned steps. After the crates are rearranged, the desired crates will be at the top of each stack.\n",
    "\n",
    "The Elves don't want to interrupt the crane operator during this delicate procedure, but they forgot to ask her which crate will end up where, and they want to be ready to unload them as soon as possible so they can embark.\n",
    "\n",
    "They do, however, have a drawing of the starting stacks of crates and the rearrangement procedure (your puzzle input). For example:\n",
    "\n",
    "    [D]    \n",
    "[N] [C]    \n",
    "[Z] [M] [P]\n",
    " 1   2   3 \n",
    "\n",
    "move 1 from 2 to 1\n",
    "move 3 from 1 to 3\n",
    "move 2 from 2 to 1\n",
    "move 1 from 1 to 2\n",
    "In this example, there are three stacks of crates. Stack 1 contains two crates: crate Z is on the bottom, and crate N is on top. Stack 2 contains three crates; from bottom to top, they are crates M, C, and D. Finally, stack 3 contains a single crate, P.\n",
    "\n",
    "Then, the rearrangement procedure is given. In each step of the procedure, a quantity of crates is moved from one stack to a different stack. In the first step of the above rearrangement procedure, one crate is moved from stack 2 to stack 1, resulting in this configuration:\n",
    "\n",
    "[D]        \n",
    "[N] [C]    \n",
    "[Z] [M] [P]\n",
    " 1   2   3 \n",
    "In the second step, three crates are moved from stack 1 to stack 3. Crates are moved one at a time, so the first crate to be moved (D) ends up below the second and third crates:\n",
    "\n",
    "        [Z]\n",
    "        [N]\n",
    "    [C] [D]\n",
    "    [M] [P]\n",
    " 1   2   3\n",
    "Then, both crates are moved from stack 2 to stack 1. Again, because crates are moved one at a time, crate C ends up below crate M:\n",
    "\n",
    "        [Z]\n",
    "        [N]\n",
    "[M]     [D]\n",
    "[C]     [P]\n",
    " 1   2   3\n",
    "Finally, one crate is moved from stack 1 to stack 2:\n",
    "\n",
    "        [Z]\n",
    "        [N]\n",
    "        [D]\n",
    "[C] [M] [P]\n",
    " 1   2   3\n",
    "The Elves just need to know which crate will end up on top of each stack; in this example, the top crates are C in stack 1, M in stack 2, and Z in stack 3, so you should combine these together and give the Elves the message CMZ.\n",
    "\n",
    "After the rearrangement procedure completes, what crate ends up on top of each stack?"
   ]
  },
  {
   "cell_type": "code",
   "execution_count": 205,
   "metadata": {},
   "outputs": [],
   "source": [
    "#hardcoded initial stacks \n",
    "initial = [[],['T','V','J','W','N','R','M','S'],['V','C','P','Q','J','D','W','B'],['P','R','D','H','F','J','B'],['D','N','M','B','P','R','F'],['B','T','P','R','V','H'],['T','P','B','C'],['L','P','R','J','B'],['W','B','Z','T','L','S','C','N'],['G','S','L']]\n",
    "initialsmall = [[],['N','Z'],['D','C','M'],['P']]"
   ]
  },
  {
   "cell_type": "code",
   "execution_count": 206,
   "metadata": {},
   "outputs": [],
   "source": [
    "def prepInput():\n",
    "    f = open(\"input\\day5.txt\", \"r\")\n",
    "    data = []\n",
    "    for line in f:\n",
    "        tmp=[]\n",
    "        line = line.strip('\\n')\n",
    "        s = 0\n",
    "        if(line[6].isdigit()):\n",
    "            tmp.append(int(line[5]+line[6]))\n",
    "            s+=1\n",
    "        else:\n",
    "            tmp.append(int(line[5]))\n",
    "\n",
    "        if(line[13+s].isdigit()):\n",
    "            tmp.append(int(line[12+s]+line[13+s]))\n",
    "            s+=1\n",
    "        else:\n",
    "            tmp.append(int(line[12+s]))\n",
    "\n",
    "        if(len(line)>18+s and line[18+s].isdigit()):\n",
    "            tmp.append(int(line[17+s]+line[18+s]))\n",
    "        else:\n",
    "            tmp.append(int(line[17+s]))    \n",
    "\n",
    "        data.append(tmp)  \n",
    "    return data\n",
    "    "
   ]
  },
  {
   "cell_type": "code",
   "execution_count": 207,
   "metadata": {},
   "outputs": [],
   "source": [
    "def prepStack(init):\n",
    "    for i in range(1, len(init), 1):\n",
    "        init[i].reverse()\n",
    "    return init\n"
   ]
  },
  {
   "cell_type": "code",
   "execution_count": 208,
   "metadata": {},
   "outputs": [],
   "source": [
    "def star1():\n",
    "    start = initial\n",
    "    stack = prepStack(start)\n",
    "    data = prepInput()\n",
    "    for p in data:\n",
    "        for i in range(0, p[0], 1):\n",
    "            stack[p[2]].append(stack[p[1]].pop())\n",
    "    top = []\n",
    "    for i in range(1, len(stack), 1):\n",
    "        top.append(stack[i].pop())\n",
    "    return top\n"
   ]
  },
  {
   "cell_type": "code",
   "execution_count": 209,
   "metadata": {},
   "outputs": [],
   "source": [
    "#star1()"
   ]
  },
  {
   "cell_type": "markdown",
   "metadata": {},
   "source": [
    "--- Part Two ---\n",
    "As you watch the crane operator expertly rearrange the crates, you notice the process isn't following your prediction.\n",
    "\n",
    "Some mud was covering the writing on the side of the crane, and you quickly wipe it away. The crane isn't a CrateMover 9000 - it's a CrateMover 9001.\n",
    "\n",
    "The CrateMover 9001 is notable for many new and exciting features: air conditioning, leather seats, an extra cup holder, and the ability to pick up and move multiple crates at once.\n",
    "\n",
    "Again considering the example above, the crates begin in the same configuration:\n",
    "\n",
    "    [D]    \n",
    "[N] [C]    \n",
    "[Z] [M] [P]\n",
    " 1   2   3 \n",
    "Moving a single crate from stack 2 to stack 1 behaves the same as before:\n",
    "\n",
    "[D]        \n",
    "[N] [C]    \n",
    "[Z] [M] [P]\n",
    " 1   2   3 \n",
    "However, the action of moving three crates from stack 1 to stack 3 means that those three moved crates stay in the same order, resulting in this new configuration:\n",
    "\n",
    "        [D]\n",
    "        [N]\n",
    "    [C] [Z]\n",
    "    [M] [P]\n",
    " 1   2   3\n",
    "Next, as both crates are moved from stack 2 to stack 1, they retain their order as well:\n",
    "\n",
    "        [D]\n",
    "        [N]\n",
    "[C]     [Z]\n",
    "[M]     [P]\n",
    " 1   2   3\n",
    "Finally, a single crate is still moved from stack 1 to stack 2, but now it's crate C that gets moved:\n",
    "\n",
    "        [D]\n",
    "        [N]\n",
    "        [Z]\n",
    "[M] [C] [P]\n",
    " 1   2   3\n",
    "In this example, the CrateMover 9001 has put the crates in a totally different order: MCD.\n",
    "\n",
    "Before the rearrangement process finishes, update your simulation so that the Elves know where they should stand to be ready to unload the final supplies. After the rearrangement procedure completes, what crate ends up on top of each stack?"
   ]
  },
  {
   "cell_type": "code",
   "execution_count": 210,
   "metadata": {},
   "outputs": [],
   "source": [
    "def star2():\n",
    "    start = initial\n",
    "    stack = prepStack(start)\n",
    "    data = prepInput()\n",
    "    print(stack)\n",
    "    for p in data:\n",
    "        print(p)\n",
    "        for i in range(p[0], 0, -1):\n",
    "            #print(i)\n",
    "            stack[p[2]].append(stack[p[1]].pop(len(stack[p[1]])-i))\n",
    "        print(stack[1])\n",
    "        \n",
    "    top = []\n",
    "    for i in range(1, len(stack), 1):\n",
    "        if (len(stack[i])>0):\n",
    "            top.append(stack[i].pop())\n",
    "    return top\n",
    "    "
   ]
  },
  {
   "cell_type": "code",
   "execution_count": 211,
   "metadata": {},
   "outputs": [
    {
     "name": "stdout",
     "output_type": "stream",
     "text": [
      "[[], ['S', 'M', 'R', 'N', 'W', 'J', 'V', 'T'], ['B', 'W', 'D', 'J', 'Q', 'P', 'C', 'V'], ['B', 'J', 'F', 'H', 'D', 'R', 'P'], ['F', 'R', 'P', 'B', 'M', 'N', 'D'], ['H', 'V', 'R', 'P', 'T', 'B'], ['C', 'B', 'P', 'T'], ['B', 'J', 'R', 'P', 'L'], ['N', 'C', 'S', 'L', 'T', 'Z', 'B', 'W'], ['L', 'S', 'G']]\n",
      "[7, 3, 9]\n",
      "['S', 'M', 'R', 'N', 'W', 'J', 'V', 'T']\n",
      "[6, 2, 1]\n",
      "['S', 'M', 'R', 'N', 'W', 'J', 'V', 'T', 'D', 'J', 'Q', 'P', 'C', 'V']\n",
      "[2, 4, 8]\n",
      "['S', 'M', 'R', 'N', 'W', 'J', 'V', 'T', 'D', 'J', 'Q', 'P', 'C', 'V']\n",
      "[10, 8, 4]\n",
      "['S', 'M', 'R', 'N', 'W', 'J', 'V', 'T', 'D', 'J', 'Q', 'P', 'C', 'V']\n",
      "[1, 2, 4]\n",
      "['S', 'M', 'R', 'N', 'W', 'J', 'V', 'T', 'D', 'J', 'Q', 'P', 'C', 'V']\n",
      "[15, 4, 1]\n",
      "['S', 'M', 'R', 'N', 'W', 'J', 'V', 'T', 'D', 'J', 'Q', 'P', 'C', 'V', 'R', 'P', 'B', 'M', 'N', 'C', 'S', 'L', 'T', 'Z', 'B', 'W', 'N', 'D', 'W']\n",
      "[28, 1, 3]\n",
      "['S']\n"
     ]
    },
    {
     "data": {
      "text/plain": [
       "['S', 'B', 'W', 'F', 'B', 'T', 'L', 'P']"
      ]
     },
     "execution_count": 211,
     "metadata": {},
     "output_type": "execute_result"
    }
   ],
   "source": [
    "star2()"
   ]
  }
 ],
 "metadata": {
  "kernelspec": {
   "display_name": "Python 3.9.7 ('base')",
   "language": "python",
   "name": "python3"
  },
  "language_info": {
   "codemirror_mode": {
    "name": "ipython",
    "version": 3
   },
   "file_extension": ".py",
   "mimetype": "text/x-python",
   "name": "python",
   "nbconvert_exporter": "python",
   "pygments_lexer": "ipython3",
   "version": "3.9.7"
  },
  "orig_nbformat": 4,
  "vscode": {
   "interpreter": {
    "hash": "dccf460136baee8ffb9a1dfb7aa1de5a4d6be4bb6bc26771244924976d22362f"
   }
  }
 },
 "nbformat": 4,
 "nbformat_minor": 2
}
